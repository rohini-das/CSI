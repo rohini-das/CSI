{
  "nbformat": 4,
  "nbformat_minor": 0,
  "metadata": {
    "colab": {
      "provenance": []
    },
    "kernelspec": {
      "name": "python3",
      "display_name": "Python 3"
    },
    "language_info": {
      "name": "python"
    }
  },
  "cells": [
    {
      "cell_type": "code",
      "execution_count": null,
      "metadata": {
        "id": "NmLTe0tv9mZ9"
      },
      "outputs": [],
      "source": [
        "import pandas as pd\n",
        "import seaborn as sns\n",
        "import matplotlib.pyplot as plt\n",
        "import numpy as np\n",
        "df = pd.read_excel('Final_ACL_Anon_2022-11-09.xlsx')\n",
        "print(df)"
      ]
    },
    {
      "cell_type": "code",
      "source": [
        "#Read the data\n",
        "df = pd.read_excel('Final_ACL_Anon_2022-11-09.xlsx')\n",
        "print(df)"
      ],
      "metadata": {
        "id": "7vBFundDn57t"
      },
      "execution_count": null,
      "outputs": []
    },
    {
      "cell_type": "code",
      "source": [
        "#Plot correlation among features\n",
        "plt.figure(figsize=(50,50))\n",
        "cor = df.corr()\n",
        "sns.heatmap(cor, annot=True, cmap=plt.cm.Reds)\n",
        "plt.show()"
      ],
      "metadata": {
        "id": "w0ZXuJJ79wFH"
      },
      "execution_count": null,
      "outputs": []
    },
    {
      "cell_type": "code",
      "source": [
        "#Cleaning the data\n",
        "\n",
        "def clean_dataset(df):\n",
        "    assert isinstance(df, pd.DataFrame), \"df needs to be a pd.DataFrame\"\n",
        "    df.dropna(inplace=True)\n",
        "    indices_to_keep = ~df.isin([np.nan, np.inf, -np.inf]).any(1)\n",
        "    return df[indices_to_keep].astype(np.float64)\n"
      ],
      "metadata": {
        "id": "g_xu3mcR909D"
      },
      "execution_count": null,
      "outputs": []
    },
    {
      "cell_type": "code",
      "source": [
        "data = df.iloc[:, 2:44] #excluding non-numeric features\n",
        "clean_dataset(data)\n",
        "print(data)"
      ],
      "metadata": {
        "id": "Gl0_6Yyn9-gJ"
      },
      "execution_count": null,
      "outputs": []
    },
    {
      "cell_type": "code",
      "source": [
        "#Print any missing records\n",
        "missing = df.merge(data, how = 'outer' ,indicator=True).loc[lambda x : x['_merge']=='left_only']\n",
        "\n",
        "print(missing)"
      ],
      "metadata": {
        "id": "vkIS5jT6-i_Y"
      },
      "execution_count": null,
      "outputs": []
    },
    {
      "cell_type": "code",
      "source": [
        "#Drop \"sysyem_mass\"\n",
        "df.drop(['System_Mass'], axis=1, inplace=True)"
      ],
      "metadata": {
        "id": "ef_oAd0EPJJs"
      },
      "execution_count": null,
      "outputs": []
    },
    {
      "cell_type": "code",
      "source": [
        "#Initiaizing target label\n",
        "y = df['Status']"
      ],
      "metadata": {
        "id": "p_WMGXFT-pv5"
      },
      "execution_count": null,
      "outputs": []
    },
    {
      "cell_type": "code",
      "source": [
        "from sklearn.model_selection import train_test_split\n",
        "from sklearn.metrics import classification_report, confusion_matrix, roc_auc_score\n",
        "from sklearn import metrics\n",
        "X_train, X_test, y_train, y_test = train_test_split(X, y, train_size=0.7, random_state=42) #splitting train and test data\n",
        "X_train.shape, X_test.shape"
      ],
      "metadata": {
        "id": "_LKpeU6--vgT"
      },
      "execution_count": null,
      "outputs": []
    },
    {
      "cell_type": "code",
      "source": [
        "from sklearn.ensemble import RandomForestClassifier\n",
        "classifier_rf = RandomForestClassifier(random_state=42, n_jobs=-1, max_depth=5,\n",
        "                                       n_estimators=100, oob_score=True)\n",
        "\n",
        "classifier_rf.fit(X_train, y_train)\n",
        "y_pred=classifier_rf.predict(X_test)\n",
        "y_train_hat = model.predict(X_train)\n"
      ],
      "metadata": {
        "id": "qBot-23Q-zTa"
      },
      "execution_count": null,
      "outputs": []
    },
    {
      "cell_type": "code",
      "source": [
        "print('Train performance')\n",
        "print('-------------------------------------------------------')\n",
        "print(classification_report(y_train, y_train_hat))\n",
        "\n",
        "print('Test performance')\n",
        "print('-------------------------------------------------------')\n",
        "print(classification_report(y_test, y_pred))\n",
        "\n",
        "print('Confusion matrix')\n",
        "print('-------------------------------------------------------')\n",
        "print(confusion_matrix(y_test, y_pred))"
      ],
      "metadata": {
        "id": "30cBJGdJ-6ox"
      },
      "execution_count": null,
      "outputs": []
    },
    {
      "cell_type": "code",
      "source": [
        "# Model Accuracy, how often is the classifier correct?\n",
        "print(\"Accuracy:\",metrics.accuracy_score(y_test, y_pred))"
      ],
      "metadata": {
        "id": "ayevrswd_p9p"
      },
      "execution_count": null,
      "outputs": []
    },
    {
      "cell_type": "code",
      "source": [
        "#Hyper-parameter training\n",
        "from sklearn.model_selection import GridSearchCV\n",
        "rf = RandomForestClassifier(random_state=42, n_jobs=-1)\n",
        "params = {\n",
        "    'max_depth': [2,3,5,10,20],\n",
        "    'min_samples_leaf': [5,10,20,50,100,200],\n",
        "    'n_estimators': [10,25,30,50,100,200]\n",
        "}\n",
        "grid_search = GridSearchCV(estimator=rf,\n",
        "                           param_grid=params,\n",
        "                           cv = 4,\n",
        "                           n_jobs=-1, verbose=1, scoring=\"accuracy\")\n",
        "grid_search.fit(X_train, y_train)"
      ],
      "metadata": {
        "id": "rFZOWg2wApQU"
      },
      "execution_count": null,
      "outputs": []
    },
    {
      "cell_type": "code",
      "source": [
        "#printing the best parameters\n",
        "print(grid_search.best_score_)\n",
        "rf_best = grid_search.best_estimator_\n",
        "print(rf_best)"
      ],
      "metadata": {
        "id": "0pmxr4ZcBRba"
      },
      "execution_count": null,
      "outputs": []
    },
    {
      "cell_type": "code",
      "source": [
        "#Classifier after hyper-parameter tuning\n",
        "classifier_rf = RandomForestClassifier(max_depth=20, min_samples_leaf=5, n_jobs=-1,\n",
        "                       random_state=42)\n",
        "classifier_rf.fit(X_train, y_train)\n",
        "y_pred=classifier_rf.predict(X_test)\n",
        "\n",
        "print(\"Accuracy:\",metrics.accuracy_score(y_test, y_pred))"
      ],
      "metadata": {
        "id": "ORK-xlMjBVc4"
      },
      "execution_count": null,
      "outputs": []
    },
    {
      "cell_type": "code",
      "source": [
        "print('Train performance')\n",
        "print('-------------------------------------------------------')\n",
        "print(classification_report(y_train, y_train_hat))\n",
        "\n",
        "print('Test performance')\n",
        "print('-------------------------------------------------------')\n",
        "print(classification_report(y_test, y_pred))\n",
        "\n",
        "print('Confusion matrix')\n",
        "print('-------------------------------------------------------')\n",
        "print(confusion_matrix(y_test, y_pred))"
      ],
      "metadata": {
        "id": "4SHK4jFxNiWa"
      },
      "execution_count": null,
      "outputs": []
    },
    {
      "cell_type": "code",
      "source": [
        "#Feature importances\n",
        "print(rf_best.feature_importances_)\n",
        "imp_df = pd.DataFrame({\n",
        "    \"Varname\": X_train.columns,\n",
        "    \"Imp\": rf_best.feature_importances_\n",
        "})\n",
        "print(imp_df.sort_values(by=\"Imp\", ascending=False))"
      ],
      "metadata": {
        "id": "GvG3X_9jBcPr"
      },
      "execution_count": null,
      "outputs": []
    },
    {
      "cell_type": "code",
      "source": [
        "#Plotting feature importance\n",
        "\n",
        "from matplotlib import pyplot as plt\n",
        "sorted_idx = rf_best.feature_importances_.argsort()\n",
        "plt.figure(figsize=(10, 10))\n",
        "plt.barh(X_train.columns[sorted_idx], rf_best.feature_importances_[sorted_idx])\n",
        "plt.xlabel(\"Random Forest Feature Importance\")"
      ],
      "metadata": {
        "id": "WOq9NynXBgnZ"
      },
      "execution_count": null,
      "outputs": []
    }
  ]
}